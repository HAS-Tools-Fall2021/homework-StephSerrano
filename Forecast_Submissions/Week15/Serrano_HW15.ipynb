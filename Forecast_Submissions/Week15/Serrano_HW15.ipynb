{
 "cells": [
  {
   "cell_type": "markdown",
   "id": "11cbde0a",
   "metadata": {},
   "source": [
    " # Forecast Script - Week 15\n",
    " ### Steph Serrano\n",
    " ### 6 Dec. 2021"
   ]
  },
  {
   "cell_type": "markdown",
   "id": "00a262c4",
   "metadata": {},
   "source": [
    "## Import Modules\n",
    "This is the list of packages that *may* be used. Not every package listed will be used within this code which can be seen with the packages that are shaded a darker green in comparison to the rest."
   ]
  },
  {
   "cell_type": "code",
   "execution_count": 6,
   "id": "7285138a",
   "metadata": {},
   "outputs": [],
   "source": [
    "import os\n",
    "import numpy as np\n",
    "import pandas as pd\n",
    "import seaborn as sns\n",
    "import matplotlib.pyplot as plt\n",
    "import cartopy.crs as ccrs\n",
    "import cartopy.feature as cfeature\n",
    "import seaborn as sns\n",
    "import geopandas as gpd\n",
    "from netCDF4 import Dataset\n",
    "from sklearn.linear_model import LinearRegression"
   ]
  },
  {
   "cell_type": "markdown",
   "id": "a7891283",
   "metadata": {},
   "source": [
    "## Embed USGS Streamflow Values\n",
    "This is the inclusion of the USGS streamflow data for streamgage 09506000 using a URL rather than a file. This section of the code will also provide the initial variables needed to use the streamflow values within the dataset."
   ]
  },
  {
   "cell_type": "code",
   "execution_count": 7,
   "id": "a78b79d7",
   "metadata": {},
   "outputs": [],
   "source": [
    "flow_url = \"https://waterdata.usgs.gov/nwis/dv?cb_00060=on&format=rdb\" \\\n",
    "              \"&site_no=09506000&referred_module=sw\" \\\n",
    "              \"&period=&begin_date=1989-01-01&end_date=2021-12-4\"\n",
    "flow_data = pd.read_table(flow_url, sep='\\t', skiprows=30,\n",
    "                          names=['agency_cd', 'site_no', 'datetime', 'flow',\n",
    "                                 'code'], parse_dates=['datetime'],\n",
    "                          index_col=['datetime'])\n",
    "flow_data['month'] = pd.DatetimeIndex(flow_data.index).month\n",
    "flow_data['day'] = pd.DatetimeIndex(flow_data.index).day\n",
    "flow_data['year'] = pd.DatetimeIndex(flow_data.index).year"
   ]
  },
  {
   "cell_type": "markdown",
   "id": "5c34a4b5",
   "metadata": {},
   "source": [
    "## Function for Monthly Observed Flow\n",
    "This section of the code is a function that defines monthly observed flow for a given time period. The time period can be defined by the startyear, endyear, month, firstday, and lastday. The function will plot whatever values are available within the time period (1989-01-01 to 2021-11-20) used in the USGS link."
   ]
  },
  {
   "cell_type": "code",
   "execution_count": 8,
   "id": "58cf6a02",
   "metadata": {},
   "outputs": [],
   "source": [
    "def Monthly_ObservedFlow(startyear, endyear, month, firstday, lastday):\n",
    "       '''Variables:\n",
    "       flow_data: USGS Streamgage 09506000 daily streamflow data values\n",
    "       startyear: First year being viewed intimeseries\n",
    "       endyear: Final year being viewed in timeseries\n",
    "       month: Month being viewed in timeseries\n",
    "       firstday: First day of month\n",
    "       lastday: Last day of month'''\n",
    "\n",
    "       fig, ax = plt.subplots()\n",
    "       for x in range(startyear, endyear):\n",
    "              plot = flow_data[(flow_data.index.year == x) &\n",
    "                        (flow_data.index.month == month) &\n",
    "                        (flow_data.index.day >= firstday) &\n",
    "                        (flow_data.index.day <= lastday)]\n",
    "       ax.plot(plot.index.day, plot['flow'],\n",
    "                        label=x)\n",
    "       ax.set(title='Observed Flow',yscale='log', \n",
    "              ylabel='Log Flow (cfs)')\n",
    "       plt.show()\n",
    "\n",
    "       return fig"
   ]
  },
  {
   "cell_type": "markdown",
   "id": "407713c8",
   "metadata": {},
   "source": [
    "## Function in Action\n",
    "This the function listed above being used in real time. I chose to view the flow values for the month of November for the years 2010 to 2021. I chose 2010 as the start year because I believe that the data that is most valuable in these forecast predictions are the values and trends that are more recent."
   ]
  },
  {
   "cell_type": "code",
   "execution_count": 9,
   "id": "7b09f267",
   "metadata": {},
   "outputs": [
    {
     "data": {
      "image/png": "[encoded data removed]",
      "text/plain": [
       "<Figure size 432x288 with 1 Axes>"
      ]
     },
     "metadata": {
      "needs_background": "light"
     },
     "output_type": "display_data"
    },
    {
     "data": {
      "text/plain": [
       "<Figure size 432x288 with 0 Axes>"
      ]
     },
     "metadata": {},
     "output_type": "display_data"
    }
   ],
   "source": [
    "Monthly_ObservedFlow(2015, 2021, 12, 1, 31)\n",
    "\n",
    "fig = plt.figure()\n",
    "fig.savefig('DecFlow.png')"
   ]
  },
  {
   "cell_type": "markdown",
   "id": "430494c4",
   "metadata": {},
   "source": [
    "## Linear Regression - Week 1 Prediction\n",
    "A linear regression was made using the weekly flow data to produce a prediction for Week 1. "
   ]
  },
  {
   "cell_type": "code",
   "execution_count": 10,
   "id": "fa2dd245",
   "metadata": {},
   "outputs": [
    {
     "name": "stdout",
     "output_type": "stream",
     "text": [
      "Week 1 Prediction: 144.71\n"
     ]
    }
   ],
   "source": [
    "flow_weekly = flow_data\n",
    "flow_weekly['flow_tm1'] = flow_weekly['flow'].shift(1)\n",
    "flow_weekly['flow_tm2'] = flow_weekly['flow'].shift(2)\n",
    "train = flow_weekly[2:800][['flow', 'flow_tm1', 'flow_tm2']]\n",
    "test = flow_weekly[800:][['flow', 'flow_tm1', 'flow_tm2']]\n",
    "model = LinearRegression()\n",
    "x = train['flow_tm1'].values.reshape(-1, 1)\n",
    "y = train['flow'].values\n",
    "model.fit(x, y)\n",
    "r_sq = model.score(x, y)\n",
    "print('Week 1 Prediction:', np.round(model.intercept_, 2)+100)"
   ]
  },
  {
   "cell_type": "markdown",
   "id": "f8ed06f3",
   "metadata": {},
   "source": [
    "## Linear Regression - Week 2 Prediction\n",
    "A linear regression was made using the weekly flow data to produce a prediction for Week 2. "
   ]
  },
  {
   "cell_type": "code",
   "execution_count": 11,
   "id": "89b3f589",
   "metadata": {},
   "outputs": [
    {
     "name": "stdout",
     "output_type": "stream",
     "text": [
      "Week 2 Prediction: 199.47\n"
     ]
    }
   ],
   "source": [
    "flow_weekly2 = flow_data\n",
    "flow_weekly2['flow_tm1'] = flow_weekly2['flow'].shift(1)\n",
    "flow_weekly2['flow_tm2'] = flow_weekly2['flow'].shift(2)\n",
    "train = flow_weekly2[2:800][['flow', 'flow_tm1', 'flow_tm2']]\n",
    "test = flow_weekly2[1000:][['flow', 'flow_tm1', 'flow_tm2']]\n",
    "model2 = LinearRegression()\n",
    "x = train['flow_tm2'].values.reshape(-1, 1)\n",
    "y = train['flow'].values\n",
    "model2.fit(x, y)\n",
    "r_sq = model.score(x, y)\n",
    "print('Week 2 Prediction:', np.round(model2.intercept_, 2)+100)"
   ]
  }
 ],
 "metadata": {
  "kernelspec": {
   "display_name": "Python 3 (ipykernel)",
   "language": "python",
   "name": "python3"
  },
  "language_info": {
   "codemirror_mode": {
    "name": "ipython",
    "version": 3
   },
   "file_extension": ".py",
   "mimetype": "text/x-python",
   "name": "python",
   "nbconvert_exporter": "python",
   "pygments_lexer": "ipython3",
   "version": "3.8.10"
  }
 },
 "nbformat": 4,
 "nbformat_minor": 5
}
